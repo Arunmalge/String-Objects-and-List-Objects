{
 "cells": [
  {
   "cell_type": "code",
   "execution_count": 3,
   "id": "c5cb916e",
   "metadata": {},
   "outputs": [],
   "source": [
    "#Create a pattern using nested for loop"
   ]
  },
  {
   "cell_type": "code",
   "execution_count": 70,
   "id": "608a6a0e",
   "metadata": {},
   "outputs": [
    {
     "name": "stdout",
     "output_type": "stream",
     "text": [
      "*  \n",
      "* *  \n",
      "* * *  \n",
      "* * * *  \n",
      "* * * * *  \n",
      "* * * * * *  \n",
      "* * * * * * *  \n",
      "* * * * * * * *  \n",
      "* * * * * * * * *  \n",
      "* * * * * * * * * *  \n",
      "* * * * * * * * * *  \n",
      "* * * * * * * * *  \n",
      "* * * * * * * *  \n",
      "* * * * * * *  \n",
      "* * * * * *  \n",
      "* * * * *  \n",
      "* * * *  \n",
      "* * *  \n",
      "* *  \n",
      "*  \n",
      " \n"
     ]
    }
   ],
   "source": [
    "\n",
    "n = 10\n",
    "for i in range(0, n):\n",
    "    for j in range(0, i + 1):\n",
    "        print(\"*\", end=' ')\n",
    "    print(\" \")\n",
    "    \n",
    "for i in range(n + 1, 0, -1):\n",
    "    for j in range(0, i - 1):\n",
    "        print(\"*\", end=' ')\n",
    "    print(\" \")\n"
   ]
  },
  {
   "cell_type": "code",
   "execution_count": null,
   "id": "54629534",
   "metadata": {},
   "outputs": [],
   "source": [
    "#write a python program to reverse word after accepting input from user."
   ]
  },
  {
   "cell_type": "code",
   "execution_count": 84,
   "id": "f75cf7cb",
   "metadata": {},
   "outputs": [
    {
     "name": "stdout",
     "output_type": "stream",
     "text": [
      "Please enter you name: Arun Malge /\n",
      "/ eglaM nurA\n"
     ]
    }
   ],
   "source": [
    "v = input(\"Please enter you name: \")\n",
    "print(v[::-1])\n"
   ]
  },
  {
   "cell_type": "code",
   "execution_count": null,
   "id": "8b8253b7",
   "metadata": {},
   "outputs": [],
   "source": []
  }
 ],
 "metadata": {
  "kernelspec": {
   "display_name": "Python 3",
   "language": "python",
   "name": "python3"
  },
  "language_info": {
   "codemirror_mode": {
    "name": "ipython",
    "version": 3
   },
   "file_extension": ".py",
   "mimetype": "text/x-python",
   "name": "python",
   "nbconvert_exporter": "python",
   "pygments_lexer": "ipython3",
   "version": "3.8.8"
  }
 },
 "nbformat": 4,
 "nbformat_minor": 5
}
